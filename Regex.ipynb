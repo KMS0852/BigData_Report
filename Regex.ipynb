{
 "cells": [
  {
   "cell_type": "code",
   "execution_count": 27,
   "id": "67fbfe44-1202-4e0f-b592-86a39da522f7",
   "metadata": {},
   "outputs": [],
   "source": [
    "import re"
   ]
  },
  {
   "cell_type": "code",
   "execution_count": 75,
   "id": "f4b6ce79-9046-48b7-935d-c12bed5677ae",
   "metadata": {},
   "outputs": [],
   "source": [
    "def findall_test(pattern, text) :\n",
    "    \n",
    "    for result in re.findall(pattern, text):\n",
    "        print(result)\n",
    "        \n",
    "def search_test(pattern, text) : \n",
    "    \n",
    "    search = re.search(pattern, text)\n",
    "    \n",
    "    if search :\n",
    "        start_index = search.start()\n",
    "        print(f'매치 시작 위치 : {start_index}')\n",
    "    else : \n",
    "        print('매치되지 않았습니다.')\n",
    "        \n",
    "def match_test(pattern, text) :\n",
    "    \n",
    "    if re.match(pattern, text) :\n",
    "        print('매치 되었습니다.')\n",
    "    else :\n",
    "        print('매치되지 않았습니다.')\n",
    "        "
   ]
  },
  {
   "cell_type": "code",
   "execution_count": 86,
   "id": "84a203c2-7e45-4028-b0b8-99ffbe84724c",
   "metadata": {},
   "outputs": [],
   "source": [
    "text = \"정규표현식 test example123@example.com a@a.a xyz@example.net 입니다\""
   ]
  },
  {
   "cell_type": "code",
   "execution_count": 77,
   "id": "fcab8dd4-f455-45ff-8bf1-e9e25867fc45",
   "metadata": {},
   "outputs": [],
   "source": [
    "# 문자열에서 이메일 형식으로 된 모든 문자열을 찾는 정규식 a@a.a는 올바른 이메일 형식이 아니기 때문에 가져오지 않는다. (수량자로 2글자 이상이 있어야만 가져오게 설정)\n",
    "\n",
    "pattern_email = r'\\b[A-Za-z0-9._%+-]{2,}@[A-Za-z0-9.-]+\\.[A-Za-z]{2,}\\b'"
   ]
  },
  {
   "cell_type": "code",
   "execution_count": 78,
   "id": "e0a335eb-7885-436b-b720-3c49dd6d4072",
   "metadata": {},
   "outputs": [],
   "source": [
    "# 파이썬에서는 한글을 지원하지 않기 때문에 유니코드로 정규식 작성\n",
    "\n",
    "pattern_han = r'[\\uAC00-\\uD7AF]+'"
   ]
  },
  {
   "cell_type": "code",
   "execution_count": 79,
   "id": "5a90baec-d155-4a8c-8d23-9c905de38d0e",
   "metadata": {},
   "outputs": [
    {
     "name": "stdout",
     "output_type": "stream",
     "text": [
      "example123@example.com\n",
      "xyz@example.net\n"
     ]
    }
   ],
   "source": [
    "# text에 포함된 모든 이메일 형식을 가져옴 a@a.a는 가져오지 않음\n",
    "\n",
    "findall_test(pattern_email, text)"
   ]
  },
  {
   "cell_type": "code",
   "execution_count": 88,
   "id": "a71142a3-338f-43d2-b0be-1b2225d65a84",
   "metadata": {},
   "outputs": [
    {
     "name": "stdout",
     "output_type": "stream",
     "text": [
      "정규표현식\n",
      "입니다\n"
     ]
    }
   ],
   "source": [
    "# text에 포함된 모든 한글을 가져옴\n",
    "\n",
    "findall_test(pattern_han, text)"
   ]
  },
  {
   "cell_type": "code",
   "execution_count": 82,
   "id": "9329b650-5afe-435f-bd25-9113c6bce66d",
   "metadata": {},
   "outputs": [
    {
     "name": "stdout",
     "output_type": "stream",
     "text": [
      "매치 시작 위치 : 11\n"
     ]
    }
   ],
   "source": [
    "# search를 통해 매치되는 문자열이 있는지 찾고 매치된다면 매치된 문자열의 시작점을 출력\n",
    "\n",
    "search_test(pattern_email, text)"
   ]
  },
  {
   "cell_type": "code",
   "execution_count": 83,
   "id": "5801d1e3-4fab-42c3-a5c5-e34b53098d31",
   "metadata": {},
   "outputs": [
    {
     "name": "stdout",
     "output_type": "stream",
     "text": [
      "매치 시작 위치 : 0\n"
     ]
    }
   ],
   "source": [
    "search_test(pattern_han, text)"
   ]
  },
  {
   "cell_type": "code",
   "execution_count": 85,
   "id": "0529fe6a-5156-4252-b6d9-978a1b1ecbc8",
   "metadata": {},
   "outputs": [
    {
     "name": "stdout",
     "output_type": "stream",
     "text": [
      "매치되지 않았습니다.\n"
     ]
    }
   ],
   "source": [
    "# match 함수는 문자열 첫 부분이 일치해야하기 때문에 매치되지 않음\n",
    "\n",
    "match_test(pattern_email, text)"
   ]
  },
  {
   "cell_type": "code",
   "execution_count": 84,
   "id": "6a451368-aff9-4b88-865c-6d4d0277ef83",
   "metadata": {},
   "outputs": [
    {
     "name": "stdout",
     "output_type": "stream",
     "text": [
      "매치 되었습니다.\n"
     ]
    }
   ],
   "source": [
    "# 한글은 문자열 첫 부분에 있기 때문에 매치됨\n",
    "\n",
    "match_test(pattern_han, text)"
   ]
  }
 ],
 "metadata": {
  "kernelspec": {
   "display_name": "anaconda-2022.05-py39",
   "language": "python",
   "name": "conda-env-anaconda-2022.05-py39-py"
  },
  "language_info": {
   "codemirror_mode": {
    "name": "ipython",
    "version": 3
   },
   "file_extension": ".py",
   "mimetype": "text/x-python",
   "name": "python",
   "nbconvert_exporter": "python",
   "pygments_lexer": "ipython3",
   "version": "3.9.12"
  }
 },
 "nbformat": 4,
 "nbformat_minor": 5
}
